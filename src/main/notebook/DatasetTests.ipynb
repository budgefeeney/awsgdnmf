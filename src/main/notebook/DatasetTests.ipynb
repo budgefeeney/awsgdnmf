{
 "metadata": {
  "name": ""
 },
 "nbformat": 3,
 "nbformat_minor": 0,
 "worksheets": [
  {
   "cells": [
    {
     "cell_type": "markdown",
     "metadata": {},
     "source": [
      "# Configuration"
     ]
    },
    {
     "cell_type": "code",
     "collapsed": false,
     "input": [
      "path = \"/Users/bryanfeeney/Desktop/SmallerDB-NoCJK-WithFeats\"\n",
      "%run /Users/bryanfeeney/Desktop/SmallerDB-NoCJK-WithFeats/dicts.py\n",
      "reconstructSparse=False"
     ],
     "language": "python",
     "metadata": {},
     "outputs": [],
     "prompt_number": 1
    },
    {
     "cell_type": "markdown",
     "metadata": {},
     "source": [
      "# Prelude"
     ]
    },
    {
     "cell_type": "code",
     "collapsed": false,
     "input": [
      "import numpy as np\n",
      "import numpy.random as rd\n",
      "import scipy as sp\n",
      "import scipy.linalg as la\n",
      "import scipy.sparse as ssp\n",
      "import scipy.sparse.linalg as sla\n",
      "import pickle as pkl\n",
      "import matplotlib.pyplot as plt\n",
      "%matplotlib inline\n",
      "\n",
      "import pickle as pkl\n",
      "import bottleneck\n",
      "\n"
     ],
     "language": "python",
     "metadata": {},
     "outputs": [],
     "prompt_number": 2
    },
    {
     "cell_type": "markdown",
     "metadata": {},
     "source": [
      "# Basic Data Analysis\n",
      "## Load the data\n",
      "Optionally we may reconstruct the sparse matrices from the individual dense numpy objects. These are then dumped back to disk, overwriting the old ones."
     ]
    },
    {
     "cell_type": "code",
     "collapsed": false,
     "input": [
      "if reconstructSparse:\n",
      "    W_data = np.load(path + \"/words-data.npy\")\n",
      "    W_ind  = np.load(path + \"/words-indices.npy\")\n",
      "    W_ptr  = np.load(path + \"/words-indptr.npy\")\n",
      "\n",
      "    X_data = np.load(path + \"/side-data.npy\")\n",
      "    X_ind  = np.load(path + \"/side-indices.npy\")\n",
      "    X_ptr  = np.load(path + \"/side-indptr.npy\")\n",
      "\n",
      "    W = ssp.csr_matrix((W_data, W_ind, W_ptr))\n",
      "    X = ssp.csr_matrix((X_data, X_ind, X_ptr))\n",
      "\n",
      "    with open(path + \"/words.pkl\", 'wb') as f:\n",
      "        pkl.dump(ssp.csr_matrix((W_data, W_ind, W_ptr)), f)\n",
      "\n",
      "    with open(path + \"/side.pkl\", 'wb') as f:\n",
      "        pkl.dump(ssp.csr_matrix((X_data, X_ind, X_ptr)), f)\n",
      "\n",
      "    (W.shape, X.shape)"
     ],
     "language": "python",
     "metadata": {},
     "outputs": [],
     "prompt_number": 3
    },
    {
     "cell_type": "code",
     "collapsed": false,
     "input": [
      "with open(path + \"/words.pkl\", 'rb') as f:\n",
      "    W = pkl.load(f)\n",
      "with open(path + \"/side.pkl\", 'rb') as f:\n",
      "    X = pkl.load(f)"
     ],
     "language": "python",
     "metadata": {},
     "outputs": [],
     "prompt_number": 4
    },
    {
     "cell_type": "markdown",
     "metadata": {},
     "source": [
      "##\u00a0Document Count and Length\n",
      "Document, feature and term counts. Total word-count. Distribution over document lengths."
     ]
    },
    {
     "cell_type": "code",
     "collapsed": false,
     "input": [
      "(D,T) = W.shape\n",
      "(D_check,F) = X.shape\n",
      "\n",
      "\n",
      "(D, D_check == D, T, F)"
     ],
     "language": "python",
     "metadata": {},
     "outputs": [
      {
       "metadata": {},
       "output_type": "pyout",
       "prompt_number": 5,
       "text": [
        "(605319, True, 79799, 427)"
       ]
      }
     ],
     "prompt_number": 5
    },
    {
     "cell_type": "code",
     "collapsed": false,
     "input": [
      "np.sum(W.data)"
     ],
     "language": "python",
     "metadata": {},
     "outputs": [
      {
       "metadata": {},
       "output_type": "pyout",
       "prompt_number": 6,
       "text": [
        "5958065"
       ]
      }
     ],
     "prompt_number": 6
    },
    {
     "cell_type": "code",
     "collapsed": false,
     "input": [
      "docLen = np.squeeze(np.asarray (W.sum(axis=1)))\n",
      "np.where(docLen < 1)"
     ],
     "language": "python",
     "metadata": {},
     "outputs": [
      {
       "metadata": {},
       "output_type": "pyout",
       "prompt_number": 7,
       "text": [
        "(array([], dtype=int64),)"
       ]
      }
     ],
     "prompt_number": 7
    },
    {
     "cell_type": "code",
     "collapsed": false,
     "input": [
      "fig, ax = plt.subplots()\n",
      "counts, bins, patches = ax.hist(docLen, bins=40, range=(0,40))\n",
      "ax.set_xlabel(\"Token Count\")\n",
      "ax.set_ylabel(\"Tweet Count\")\n",
      "pass"
     ],
     "language": "python",
     "metadata": {},
     "outputs": [
      {
       "metadata": {},
       "output_type": "display_data",
       "png": "[encoded data removed]",
       "text": [
        "<matplotlib.figure.Figure at 0x11317c690>"
       ]
      }
     ],
     "prompt_number": 8
    },
    {
     "cell_type": "markdown",
     "metadata": {},
     "source": [
      "Note that tweets containing fewer than four tokens were not admitted to the dataset when preprocessing, which is why this graph starts at 4 and not 0 or 1"
     ]
    },
    {
     "cell_type": "markdown",
     "metadata": {},
     "source": [
      "## Word-Counts and Dictionary Sizes\n",
      "Total dictionary size, and dictionary size per token type"
     ]
    },
    {
     "cell_type": "code",
     "collapsed": false,
     "input": [
      "import itertools\n",
      "d = list(itertools.chain.from_iterable(words))\n",
      "len(d)"
     ],
     "language": "python",
     "metadata": {},
     "outputs": [
      {
       "metadata": {},
       "output_type": "pyout",
       "prompt_number": 9,
       "text": [
        "79800"
       ]
      }
     ],
     "prompt_number": 9
    },
    {
     "cell_type": "code",
     "collapsed": false,
     "input": [
      "dictNames = ['Addressee', 'URL', 'Text', 'Stock', 'Emoticon', 'Hashtag']\n",
      "dicts     = [ wordsUsername, wordsUrl, wordsToken, wordsStock, wordsEmoticon, wordsHashtag, ]\n",
      "dictLens  = dict (zip(dictNames, [len(w) for w in dicts]))\n",
      "dictLens"
     ],
     "language": "python",
     "metadata": {},
     "outputs": [
      {
       "metadata": {},
       "output_type": "pyout",
       "prompt_number": 10,
       "text": [
        "{'Addressee': 0,\n",
        " 'Emoticon': 593,\n",
        " 'Hashtag': 13347,\n",
        " 'Stock': 454,\n",
        " 'Text': 63421,\n",
        " 'URL': 1985}"
       ]
      }
     ],
     "prompt_number": 10
    },
    {
     "cell_type": "markdown",
     "metadata": {},
     "source": [
      "For convenience later define the start and end of each token type, so we can slice the word matrix and just do inference, on for example, hashtags."
     ]
    },
    {
     "cell_type": "code",
     "collapsed": false,
     "input": [
      "dictStarts = dict()\n",
      "acc = 0\n",
      "for k in dictNames:\n",
      "    dictStarts[k] = acc\n",
      "    acc += dictLens[k]\n",
      "dictStarts\n",
      "    "
     ],
     "language": "python",
     "metadata": {},
     "outputs": [
      {
       "metadata": {},
       "output_type": "pyout",
       "prompt_number": 11,
       "text": [
        "{'Addressee': 0,\n",
        " 'Emoticon': 65860,\n",
        " 'Hashtag': 66453,\n",
        " 'Stock': 65406,\n",
        " 'Text': 1985,\n",
        " 'URL': 0}"
       ]
      }
     ],
     "prompt_number": 11
    },
    {
     "cell_type": "code",
     "collapsed": false,
     "input": [
      "dictEnds = dict()\n",
      "for i in range(len(dictNames) - 1):\n",
      "    dictEnds[dictNames[i]] = dictStarts[dictNames[i + 1]]\n",
      "dictEnds[dictNames[-1]] = len(d)\n",
      "dictEnds"
     ],
     "language": "python",
     "metadata": {},
     "outputs": [
      {
       "metadata": {},
       "output_type": "pyout",
       "prompt_number": 12,
       "text": [
        "{'Addressee': 0,\n",
        " 'Emoticon': 66453,\n",
        " 'Hashtag': 79800,\n",
        " 'Stock': 65860,\n",
        " 'Text': 65406,\n",
        " 'URL': 1985}"
       ]
      }
     ],
     "prompt_number": 12
    },
    {
     "cell_type": "markdown",
     "metadata": {},
     "source": [
      "###\u00a0Sanity check"
     ]
    },
    {
     "cell_type": "markdown",
     "metadata": {},
     "source": [
      "Just to verify that the words have been adequately extracted, we recreate a tweet from its vector representation using the dictionary. We already know that the first row in the document-term matrix $W$ corresponds to the first tweet from the ACLU account, which reads:\n",
      "\n",
      "> Sen. Lautenberg was a champion for religious liberty, women's rights & reproductive freedom. We will miss his voice & passion."
     ]
    },
    {
     "cell_type": "code",
     "collapsed": false,
     "input": [
      "[d[i] for i in W.indices[0:W.indptr[1]]]"
     ],
     "language": "python",
     "metadata": {},
     "outputs": [
      {
       "metadata": {},
       "output_type": "pyout",
       "prompt_number": 13,
       "text": [
        "['we',\n",
        " 'women',\n",
        " 'hi',\n",
        " 'liberti',\n",
        " 'passion',\n",
        " 'miss',\n",
        " 'champion',\n",
        " 'voic',\n",
        " 'reproduct',\n",
        " 'religi',\n",
        " 'freedom',\n",
        " 'sen',\n",
        " 'lautenberg',\n",
        " 'right']"
       ]
      }
     ],
     "prompt_number": 13
    },
    {
     "cell_type": "markdown",
     "metadata": {},
     "source": [
      "###\u00a0Minimum and Maximum Count of Each Class of Token"
     ]
    },
    {
     "cell_type": "code",
     "collapsed": false,
     "input": [
      "totalCount = np.squeeze(np.asarray (W.astype(np.int32).sum(axis=0)))\n",
      "\n",
      "totalCounts = dict()\n",
      "endExcl = 0\n",
      "for i in range(len(dicts)):\n",
      "    name = dictNames[i]\n",
      "    startIncl  = endExcl\n",
      "    endExcl   += len(dicts[i])\n",
      "    totalCounts[name] = totalCount[startIncl:endExcl]"
     ],
     "language": "python",
     "metadata": {},
     "outputs": [],
     "prompt_number": 14
    },
    {
     "cell_type": "code",
     "collapsed": false,
     "input": [
      "for k,v in totalCounts.items():\n",
      "    dict_k = dicts[dictNames.index(k)]\n",
      "    print (\"Min(%s): count = %d, token = %s\" % (k , v.min() if len(v) > 0 else -1, dict_k[v.argmin()] if len(v) > 0 else \"\"))"
     ],
     "language": "python",
     "metadata": {},
     "outputs": [
      {
       "output_type": "stream",
       "stream": "stdout",
       "text": [
        "Min(URL): count = 0, token = http://www.youtube.com/watch?v=nYu6hfmVZk8\n",
        "Min(Addressee): count = -1, token = \n",
        "Min(Emoticon): count = 0, token = \u00a7\n",
        "Min(Stock): count = 0, token = $nq\n",
        "Min(Text): count = 0, token = 3\n",
        "Min(Hashtag): count = 0, token = #dfmchat\n"
       ]
      }
     ],
     "prompt_number": 15
    },
    {
     "cell_type": "code",
     "collapsed": false,
     "input": [
      "for k,v in totalCounts.items():\n",
      "    dict_k = dicts[dictNames.index(k)]\n",
      "    print (\"Max(%s): count = %d, token = %s\" % (k , v.max() if len(v) > 0 else -1, dict_k[v.argmax()] if len(v) > 0 else \"\"))"
     ],
     "language": "python",
     "metadata": {},
     "outputs": [
      {
       "output_type": "stream",
       "stream": "stdout",
       "text": [
        "Max(URL): count = 176661, token = http://klout.com/user/louiebaur/topics?n=tw&v=plusK_thanks&i=266114\n",
        "Max(Addressee): count = -1, token = \n",
        "Max(Emoticon): count = 44180, token = \u1f49B\n",
        "Max(Stock): count = 577, token = $aapl\n",
        "Max(Text): count = 100764, token = you\n",
        "Max(Hashtag): count = 3902, token = #usopen\n"
       ]
      }
     ],
     "prompt_number": 16
    },
    {
     "cell_type": "markdown",
     "metadata": {},
     "source": [
      "Note that the emoticon is actually a supplemental unicode character, which Python here has failed to display correctly."
     ]
    },
    {
     "cell_type": "markdown",
     "metadata": {},
     "source": [
      "### Graph of Token Frequency\n",
      "The following graph is slightly confusing - it counts how many words occur how many times, with occurrence count on the Y axis and unique word count on the X axis"
     ]
    },
    {
     "cell_type": "code",
     "collapsed": false,
     "input": [
      "figRows = len([l for l in dictLens.values() if l > 0])\n",
      "print (str(figRows))\n",
      "figCols = 1\n",
      "figIdPrefix = \"%d%d\" % (figRows, figCols)\n",
      "\n",
      "plt.figure(1, figsize=(8,12), dpi=100)\n",
      "for i in range(len(dictNames)):\n",
      "    if dictLens[dictNames[i]] == 0:\n",
      "        continue\n",
      "    plt.subplot(figIdPrefix + str(i))\n",
      "    name = dictNames[i]\n",
      "    plt.hist (totalCounts[name], bins=min(len(totalCounts[name]), 100))[2]\n",
      "    plt.title(name)\n",
      "\n",
      "plt.show()\n"
     ],
     "language": "python",
     "metadata": {},
     "outputs": [
      {
       "output_type": "stream",
       "stream": "stdout",
       "text": [
        "5\n"
       ]
      },
      {
       "metadata": {},
       "output_type": "display_data",
       "png": "[encoded data removed]",
       "text": [
        "<matplotlib.figure.Figure at 0x118cbb350>"
       ]
      }
     ],
     "prompt_number": 17
    },
    {
     "cell_type": "markdown",
     "metadata": {},
     "source": [
      "# Features\n"
     ]
    },
    {
     "cell_type": "code",
     "collapsed": false,
     "input": [
      "feats"
     ],
     "language": "python",
     "metadata": {},
     "outputs": [
      {
       "metadata": {},
       "output_type": "pyout",
       "prompt_number": 18,
       "text": [
        "{'author': 0, 'month_of_year': 421, 'week_of_year': 398}"
       ]
      }
     ],
     "prompt_number": 18
    },
    {
     "cell_type": "code",
     "collapsed": false,
     "input": [
      "len(users)"
     ],
     "language": "python",
     "metadata": {},
     "outputs": [
      {
       "metadata": {},
       "output_type": "pyout",
       "prompt_number": 19,
       "text": [
        "364"
       ]
      }
     ],
     "prompt_number": 19
    },
    {
     "cell_type": "code",
     "collapsed": false,
     "input": [
      "X_U = X[:,0:len(users)]\n",
      "X_W = X[:,feats['week_of_year']:(feats['month_of_year'] - 1)]\n",
      "X_M = X[:,feats['month_of_year']:X.shape[1]]"
     ],
     "language": "python",
     "metadata": {},
     "outputs": [],
     "prompt_number": 20
    },
    {
     "cell_type": "markdown",
     "metadata": {},
     "source": [
      "### Users"
     ]
    },
    {
     "cell_type": "code",
     "collapsed": false,
     "input": [
      "tweetCountsPerUser = np.squeeze(np.asarray (X_U.astype(np.int32).sum(axis=0)))"
     ],
     "language": "python",
     "metadata": {},
     "outputs": [],
     "prompt_number": 21
    },
    {
     "cell_type": "code",
     "collapsed": false,
     "input": [
      "tweetCountsPerUser.min(), tweetCountsPerUser.max()"
     ],
     "language": "python",
     "metadata": {},
     "outputs": [
      {
       "metadata": {},
       "output_type": "pyout",
       "prompt_number": 22,
       "text": [
        "(1, 21178)"
       ]
      }
     ],
     "prompt_number": 22
    },
    {
     "cell_type": "code",
     "collapsed": false,
     "input": [
      "dodgyUsers = np.where(tweetCountsPerUser < 100)[0]\n",
      "for du in dodgyUsers:\n",
      "    print (users[du])"
     ],
     "language": "python",
     "metadata": {},
     "outputs": [
      {
       "output_type": "stream",
       "stream": "stdout",
       "text": [
        "BobHerbert\n",
        "CarolynBMaloney\n",
        "DCAbortionFund\n",
        "FAPPA\n",
        "FamilyCircle\n",
        "FrankLautenberg\n",
        "HeyPP\n",
        "Lizchadderdon\n",
        "MaxKaminCross\n",
        "NV_Advocates\n",
        "10yearBonds\n",
        "ATryphonides\n",
        "AkronsBobert\n",
        "AlphaVN\n",
        "Ananicolaci\n",
        "AndreaHotter\n",
        "Annika_Reuters\n",
        "AztecOptions\n",
        "BGIPfund\n",
        "BLNCruzer\n",
        "BUphamT\n",
        "BirchCreekCap\n",
        "2lovebeer\n",
        "ACLINews\n",
        "ActuallyJZ\n",
        "AlexisGelber\n",
        "AnitaSpadaro\n",
        "AskAkbar\n",
        "AdairsvilleRob\n",
        "AlexSkatell\n",
        "AmandaJoFreel\n",
        "AmbJohnBolton\n",
        "AmberMarchand\n",
        "AmeliaChasse\n",
        "AmericanXRoads\n",
        "Anderson33\n",
        "Fake_Maldonado\n",
        "MP4_28Evil\n",
        "AAMIClassic\n"
       ]
      }
     ],
     "prompt_number": 23
    },
    {
     "cell_type": "code",
     "collapsed": false,
     "input": [
      "tweetCountsPerUser.mean(), tweetCountsPerUser.std()"
     ],
     "language": "python",
     "metadata": {},
     "outputs": [
      {
       "metadata": {},
       "output_type": "pyout",
       "prompt_number": 24,
       "text": [
        "(1662.9642857142858, 2640.0758608271649)"
       ]
      }
     ],
     "prompt_number": 24
    },
    {
     "cell_type": "code",
     "collapsed": false,
     "input": [
      "[np.percentile(tweetCountsPerUser, q) for q in [25, 50, 75]]"
     ],
     "language": "python",
     "metadata": {},
     "outputs": [
      {
       "metadata": {},
       "output_type": "pyout",
       "prompt_number": 25,
       "text": [
        "[234.75, 694.0, 1902.5]"
       ]
      }
     ],
     "prompt_number": 25
    },
    {
     "cell_type": "code",
     "collapsed": false,
     "input": [
      "lt = np.log(tweetCountsPerUser)\n",
      "np.exp(lt.mean()), np.exp(lt.std())"
     ],
     "language": "python",
     "metadata": {},
     "outputs": [
      {
       "metadata": {},
       "output_type": "pyout",
       "prompt_number": 26,
       "text": [
        "(622.70624472925169, 4.93478076325421)"
       ]
      }
     ],
     "prompt_number": 26
    },
    {
     "cell_type": "code",
     "collapsed": false,
     "input": [
      "plt.hist(tweetCountsPerUser, bins=50, range=(0,5000))[2]\n",
      "plt.title(\"Tweet Counts per User\")\n",
      "plt.xlabel(\"Number of Tweets\")\n",
      "plt.ylabel(\"Number of Users\")"
     ],
     "language": "python",
     "metadata": {},
     "outputs": [
      {
       "metadata": {},
       "output_type": "pyout",
       "prompt_number": 27,
       "text": [
        "<matplotlib.text.Text at 0x11345d250>"
       ]
      },
      {
       "metadata": {},
       "output_type": "display_data",
       "png": "[encoded data removed]",
       "text": [
        "<matplotlib.figure.Figure at 0x11317ea50>"
       ]
      }
     ],
     "prompt_number": 27
    },
    {
     "cell_type": "code",
     "collapsed": false,
     "input": [
      "dodgyUsers = np.where(tweetCountsPerUser > 5000)[0]\n",
      "for du in dodgyUsers:\n",
      "    print (users[du])"
     ],
     "language": "python",
     "metadata": {},
     "outputs": [
      {
       "output_type": "stream",
       "stream": "stdout",
       "text": [
        "HuffPostPol\n",
        "Benzinga\n",
        "DirtyWars\n",
        "Gary_Bainbridge\n",
        "FGW\n",
        "CityJohn\n",
        "DoktorG\n",
        "FoodUrchin\n",
        "ASE\n",
        "BenRothenberg\n",
        "FortyDeuceTwits\n",
        "IamLewis4fake\n",
        "MaxGraham\n",
        "4AllSurfaces\n",
        "A_Gallivant\n",
        "Ataraxis00\n",
        "ChrisSkelton87\n",
        "GBtennis\n",
        "JLR78\n",
        "JayJarrahi\n",
        "Jonirja\n",
        "MindTheRacket\n",
        "MungoNGus\n",
        "Nic_Leigh\n",
        "RD_Tennistalk\n",
        "StephintheUS\n",
        "TheBoiledEgg\n",
        "TheGrandSlams\n"
       ]
      }
     ],
     "prompt_number": 28
    },
    {
     "cell_type": "markdown",
     "metadata": {},
     "source": [
      "All of these actually look legitimate - some are extremely prolific users (e.g. IamLewise4fake) some are businesses (HuffPostPol and Benzinga)"
     ]
    },
    {
     "cell_type": "code",
     "collapsed": false,
     "input": [
      "y_u = np.squeeze (np.asarray(np.argmax(X_U.todense(), axis=1)))\n",
      "len(y_u) == D"
     ],
     "language": "python",
     "metadata": {},
     "outputs": [
      {
       "metadata": {},
       "output_type": "pyout",
       "prompt_number": 29,
       "text": [
        "True"
       ]
      }
     ],
     "prompt_number": 29
    },
    {
     "cell_type": "markdown",
     "metadata": {},
     "source": [
      "###\u00a0Weeks"
     ]
    },
    {
     "cell_type": "code",
     "collapsed": false,
     "input": [
      "tweetCountsPerWeek = np.squeeze(np.asarray (X_W.astype(np.int32).sum(axis=0)))"
     ],
     "language": "python",
     "metadata": {},
     "outputs": [],
     "prompt_number": 30
    },
    {
     "cell_type": "code",
     "collapsed": false,
     "input": [
      "tweetCountsPerWeek.min(), tweetCountsPerWeek.max()"
     ],
     "language": "python",
     "metadata": {},
     "outputs": [
      {
       "metadata": {},
       "output_type": "pyout",
       "prompt_number": 31,
       "text": [
        "(20463, 31839)"
       ]
      }
     ],
     "prompt_number": 31
    },
    {
     "cell_type": "code",
     "collapsed": false,
     "input": [
      "tweetCountsPerWeek.mean(), tweetCountsPerWeek.std()"
     ],
     "language": "python",
     "metadata": {},
     "outputs": [
      {
       "metadata": {},
       "output_type": "pyout",
       "prompt_number": 32,
       "text": [
        "(27514.5, 3147.028306051744)"
       ]
      }
     ],
     "prompt_number": 32
    },
    {
     "cell_type": "code",
     "collapsed": false,
     "input": [
      "[np.percentile(tweetCountsPerWeek, q) for q in [25, 50, 75]]"
     ],
     "language": "python",
     "metadata": {},
     "outputs": [
      {
       "metadata": {},
       "output_type": "pyout",
       "prompt_number": 33,
       "text": [
        "[24699.0, 27813.5, 30546.25]"
       ]
      }
     ],
     "prompt_number": 33
    },
    {
     "cell_type": "code",
     "collapsed": false,
     "input": [
      "lt = np.log(tweetCountsPerWeek)\n",
      "np.exp(lt.mean()), np.exp(lt.std())"
     ],
     "language": "python",
     "metadata": {},
     "outputs": [
      {
       "metadata": {},
       "output_type": "pyout",
       "prompt_number": 34,
       "text": [
        "(27327.107172531618, 1.1255667542204995)"
       ]
      }
     ],
     "prompt_number": 34
    },
    {
     "cell_type": "code",
     "collapsed": false,
     "input": [
      "plt.plot(np.arange(0, len(tweetCountsPerWeek)), tweetCountsPerWeek, 'bo')\n",
      "plt.title(\"Tweet Counts per Week\")\n",
      "plt.ylabel(\"Number of Tweets\")\n",
      "plt.xlabel(\"Week\")\n",
      "plt.ylim(0, tweetCountsPerWeek.max()* 1.10)"
     ],
     "language": "python",
     "metadata": {},
     "outputs": [
      {
       "metadata": {},
       "output_type": "pyout",
       "prompt_number": 35,
       "text": [
        "(0, 35022.900000000001)"
       ]
      },
      {
       "metadata": {},
       "output_type": "display_data",
       "png": "[encoded data removed]",
       "text": [
        "<matplotlib.figure.Figure at 0x1133f9d90>"
       ]
      }
     ],
     "prompt_number": 35
    },
    {
     "cell_type": "code",
     "collapsed": false,
     "input": [
      "y_w = np.squeeze (np.asarray(np.argmax(X_W.todense(), axis=1)))\n",
      "len(y_w) == D"
     ],
     "language": "python",
     "metadata": {},
     "outputs": [
      {
       "metadata": {},
       "output_type": "pyout",
       "prompt_number": 36,
       "text": [
        "True"
       ]
      }
     ],
     "prompt_number": 36
    },
    {
     "cell_type": "markdown",
     "metadata": {},
     "source": [
      "###\u00a0Months"
     ]
    },
    {
     "cell_type": "code",
     "collapsed": false,
     "input": [
      "months = ['May', 'June', 'July', 'August', 'September', 'October']\n",
      "tweetCountsPerMonth = np.squeeze(np.asarray (X_M.astype(np.int32).sum(axis=0)))"
     ],
     "language": "python",
     "metadata": {},
     "outputs": [],
     "prompt_number": 37
    },
    {
     "cell_type": "code",
     "collapsed": false,
     "input": [
      "tweetCountsPerMonth.min(), tweetCountsPerMonth.max()"
     ],
     "language": "python",
     "metadata": {},
     "outputs": [
      {
       "metadata": {},
       "output_type": "pyout",
       "prompt_number": 38,
       "text": [
        "(1, 127183)"
       ]
      }
     ],
     "prompt_number": 38
    },
    {
     "cell_type": "code",
     "collapsed": false,
     "input": [
      "tweetCountsPerMonth.mean(), tweetCountsPerMonth.std()"
     ],
     "language": "python",
     "metadata": {},
     "outputs": [
      {
       "metadata": {},
       "output_type": "pyout",
       "prompt_number": 39,
       "text": [
        "(100886.5, 45340.97083488619)"
       ]
      }
     ],
     "prompt_number": 39
    },
    {
     "cell_type": "code",
     "collapsed": false,
     "input": [
      "[np.percentile(tweetCountsPerMonth, q) for q in [25, 50, 75]]"
     ],
     "language": "python",
     "metadata": {},
     "outputs": [
      {
       "metadata": {},
       "output_type": "pyout",
       "prompt_number": 40,
       "text": [
        "[114414.75, 120310.5, 123876.0]"
       ]
      }
     ],
     "prompt_number": 40
    },
    {
     "cell_type": "code",
     "collapsed": false,
     "input": [
      "lt = np.log(tweetCountsPerMonth)\n",
      "np.exp(lt.mean()), np.exp(lt.std())"
     ],
     "language": "python",
     "metadata": {},
     "outputs": [
      {
       "metadata": {},
       "output_type": "pyout",
       "prompt_number": 41,
       "text": [
        "(17200.484829251847, 78.390164177484024)"
       ]
      }
     ],
     "prompt_number": 41
    },
    {
     "cell_type": "code",
     "collapsed": false,
     "input": [
      "x = np.arange(0, len(tweetCountsPerMonth))\n",
      "plt.plot(x, tweetCountsPerMonth, 'bo')\n",
      "plt.title(\"Tweet Counts per Month\")\n",
      "plt.ylabel(\"Number of Tweets\")\n",
      "plt.xticks(x, months)\n",
      "plt.ylim(0, tweetCountsPerMonth.max()* 1.10)"
     ],
     "language": "python",
     "metadata": {},
     "outputs": [
      {
       "metadata": {},
       "output_type": "pyout",
       "prompt_number": 42,
       "text": [
        "(0, 139901.30000000002)"
       ]
      },
      {
       "metadata": {},
       "output_type": "display_data",
       "png": "[encoded data removed]",
       "text": [
        "<matplotlib.figure.Figure at 0x1133fd390>"
       ]
      }
     ],
     "prompt_number": 42
    },
    {
     "cell_type": "code",
     "collapsed": false,
     "input": [
      "y_m = np.squeeze (np.asarray(np.argmax(X_M.todense(), axis=1)))\n",
      "len(y_m) == D"
     ],
     "language": "python",
     "metadata": {},
     "outputs": [
      {
       "metadata": {},
       "output_type": "pyout",
       "prompt_number": 43,
       "text": [
        "True"
       ]
      }
     ],
     "prompt_number": 43
    },
    {
     "cell_type": "markdown",
     "metadata": {},
     "source": [
      "# Word and Feature Correlations"
     ]
    },
    {
     "cell_type": "code",
     "collapsed": false,
     "input": [
      "#from sklearn import svm, datasets\n",
      "from sklearn.linear_model import LogisticRegression\n",
      "from sklearn.metrics import roc_curve, auc\n",
      "from sklearn.cross_validation import StratifiedKFold\n",
      "\n",
      "from sklearn import cross_validation"
     ],
     "language": "python",
     "metadata": {},
     "outputs": [],
     "prompt_number": 56
    },
    {
     "cell_type": "code",
     "collapsed": false,
     "input": [
      "def cross_val_and_print_accuracy(classifier, inputs, outputs, n_folds=3):\n",
      "    '''\n",
      "    For binary and multi-class classifiers, does an n_fold \n",
      "    cross-validation and print out the accuracy of the classifer\n",
      "    and the accuracy of random\n",
      "    '''\n",
      "    skf = StratifiedKFold(outputs, n_folds=3)\n",
      "    scores = cross_validation.cross_val_score(classifier, inputs, outputs, cv=skf)\n",
      "    print(\"Classifier Accuracy: %0.2f (+/- %0.2f)\" % (scores.mean(), scores.std() * 2))\n",
      "    print(\"Random     Accuracy: %0.2f\" % (1.0 / (1 + np.max(outputs))))\n",
      "\n",
      "def cross_val_and_plot_roc(classifier, inputs, outputs, n_folds=3):\n",
      "    '''\n",
      "    For binary classifiers only, does an n_fold cross-validation\n",
      "    using the given instance of a classifier on the the inputs and\n",
      "    outputs and then plots the ROC curve and a line for a random\n",
      "    classifier.\n",
      "    '''\n",
      "    cv = StratifiedKFold(outputs, n_folds=n_folds)\n",
      "    \n",
      "    mean_tpr = 0.0\n",
      "    mean_fpr = np.linspace(0, 1, 100)\n",
      "    all_tpr = []\n",
      "    \n",
      "    for i, (train, test) in enumerate(cv):\n",
      "        probas_ = classifier.fit(inputs[train], outputs[train]).predict_proba(inputs[test])\n",
      "        \n",
      "        # Compute ROC curve and area the curve\n",
      "        fpr, tpr, thresholds = roc_curve(outputs[test], probas_[:, 1])\n",
      "        mean_tpr += interp(mean_fpr, fpr, tpr)\n",
      "        mean_tpr[0] = 0.0\n",
      "        roc_auc = auc(fpr, tpr)\n",
      "        \n",
      "        pl.plot(fpr, tpr, lw=1, label='ROC fold %d (area = %0.2f)' % (i, roc_auc))\n",
      "\n",
      "    pl.plot([0, 1], [0, 1], '--', color=(0.6, 0.6, 0.6), label='Luck')\n",
      "\n",
      "    mean_tpr /= len(cv)\n",
      "    mean_tpr[-1] = 1.0\n",
      "    mean_auc = auc(mean_fpr, mean_tpr)\n",
      "    pl.plot(mean_fpr, mean_tpr, 'k--',\n",
      "        label='Mean ROC (area = %0.2f)' % mean_auc, lw=2)\n",
      "\n",
      "    pl.xlim([-0.05, 1.05])\n",
      "    pl.ylim([-0.05, 1.05])\n",
      "    pl.xlabel('False Positive Rate')\n",
      "    pl.ylabel('True Positive Rate')\n",
      "    pl.title('Receiver operating characteristic example')\n",
      "    pl.legend(loc=\"lower right\")\n",
      "    pl.show()\n"
     ],
     "language": "python",
     "metadata": {},
     "outputs": [],
     "prompt_number": 57
    },
    {
     "cell_type": "markdown",
     "metadata": {},
     "source": [
      "## Predicting User from Tweets"
     ]
    },
    {
     "cell_type": "code",
     "collapsed": false,
     "input": [
      "reg = LogisticRegression()"
     ],
     "language": "python",
     "metadata": {},
     "outputs": [],
     "prompt_number": 46
    },
    {
     "cell_type": "code",
     "collapsed": false,
     "input": [
      "reg.fit (W.astype(np.float64), y_u)"
     ],
     "language": "python",
     "metadata": {},
     "outputs": [
      {
       "metadata": {},
       "output_type": "pyout",
       "prompt_number": 47,
       "text": [
        "LogisticRegression(C=1.0, class_weight=None, dual=False, fit_intercept=True,\n",
        "          intercept_scaling=1, penalty='l2', random_state=None, tol=0.0001)"
       ]
      }
     ],
     "prompt_number": 47
    },
    {
     "cell_type": "code",
     "collapsed": false,
     "input": [
      "for u in range(len(users)):\n",
      "    words = [d[i] for i in np.where(reg.coef_[u] > 3)[0]]\n",
      "    name  = users[u]\n",
      "    print (\"%s : %s\" % (name, str(words)))"
     ],
     "language": "python",
     "metadata": {},
     "outputs": [
      {
       "output_type": "stream",
       "stream": "stdout",
       "text": [
        "ACLU : ['aclu', '#sxsw', '#closegitmo', '#discrimination', '#civilliberties', '#fbi', '#nsa', '#surveillance', '#equalpay', '#marijuana', '#privacy', '#police', '#torture', '#deathpenalty', '#solitaryconfinement', '#fem2', '#freespeech']\n",
        "AdvocatesTweets : ['millenni', 'brittani', '#lgbtq', '#beatriz', '#nn13', '#hiv', '#sexed', '#1in3', '#trans', '#ur2013']\n",
        "AnnRichardsPlay : ['ann', 'holland', 'taylor', '#annplay']\n",
        "AskDrRuth : ['sex', 'romant', 'jamaica', 'peni']\n",
        "BabatundeUNFPA : ['#mdg5', '#mdg456live', '#icpd']\n",
        "Beyerstein : ['sidnei', 'waffl', '#benghaziinfourwords', '#paulasbestdishes']\n",
        "BobHerbert : []\n",
        "CLPPtweets : ['#amc2013', '#reprojustice']\n",
        "CarolynBMaloney : []\n",
        "CecileRichards : ['#sb5', '#standwithtxwomen']\n",
        "ChrisCQuinn : ['nyc', 'nyer']\n",
        "ChrisCoons : ['sequest', '#netde']\n",
        "ChrisMurphyCT : ['ct', 'hartford']\n",
        "ConnieSchultz : ['cleveland', '#standwithwendy']\n",
        "CraryAP : ['#race', '#gaymarriage', '#adoption', '#military', '#catholic', '#marijuana', '#children', '#women', '#families', '#sexualassault', '#religion', '#lgbt']\n",
        "DCAbortionFund : ['#dcautonomy', '#fem2']\n",
        "DemGovs : ['gov', 'dga', 'corbett', 'suppress', 'sequest', '#vagov']\n",
        "DrNancyNBCNEWS : ['fda', 'genom', 'terrif', 'donni', '#dreamday', '#fortunempw']\n",
        "ElizabethBanks : ['thx', '#catchingfire']\n",
        "ErinMcPike : []\n",
        "FAPPA : []\n",
        "FamilyCircle : []\n",
        "ForbesWoman : ['entrepreneur', '#redefinepower']\n",
        "FrankLautenberg : ['#nj']\n",
        "FriendsofUNFPA : ['#familyplanning']\n",
        "GOPChoice : ['rmc', '#antichoice', '#gop', '#healthcare', '#birthcontrol', '#abortion', '#prochoice', '#republican']\n",
        "GovMarkDayton : ['minnesota', '#bettermn', '#mnleg', '#mdayton']\n",
        "Guttmacher : ['fact', '#reprohealth', '#abortion']\n",
        "HealthCareGov : ['http://healthcare.gov', 'marketplac', '#getcovered']\n",
        "HeyPP : []\n",
        "HiltonHollis : ['hilton', '#spring14', '#fashion', '#morocco']\n",
        "HollandTaylor : ['xo', 'ann', 'yow', 'xox', 'tnx', 'matine', \"b'wai\", 'cice', 'damb', 'theatr', '#ann']\n",
        "HuffPostPol : ['kkk', 'pot', 'atheist', 'allegi', 'sequestration', 'sequestr', 'arpaio', 'westboro', 'bachmann', 'zooland', 'sanford', 'congressman', 'marijuana', 'obama', 'chenei', 'bradlei', 'longform', 'dirtiest', 'colbert', 'kermit', 'stamp', 'huffpost', 'weed', 'anti-obama', 'lindsei', 'climat', 'creationist', 'elizabeth', 'secess', '#longreads', '#thirdmetric', '#navyyardshooting', '#prop8']\n",
        "IpasOrg : ['ipa', 'beatriz', 'aborto', '#standwithdcwomen', '#hr1797', '#wdlive', '#sept28', '#rpcvchat', '#wd2013']\n",
        "JessicaValenti : ['h/t', 'org', 'excerpt', 'abstin', 'femin', 'anti-choic', 'feminist', 'toddler', 'layla', 'slutbag', '#fbrape']\n",
        "KofiAnnan : ['dialogu', 'annan', '#democracy', '#kofiannanlive', '#youth']\n",
        "LatinoUSA : ['hispan', 'latino', 'latina', '#dream9', '#latism13', '#latinospbs']\n",
        "Latinos4PP : ['#aca', '#health', '#latinos', '#latina']\n",
        "Lizchadderdon : []\n",
        "MHarrisPerry : ['nc', 'poverti', 'hubbi', 'hip-hop', '#politicsnation', '#nola', '#maddow', '#nerdland', '#whodat', '#scandal', '#msnbc']\n",
        "MaryKayHenry : ['mt', 'seiu', '#1u', '#aca', '#cir', '#fastfood', '#timeisnow', '#fairshot', '#mow2013']\n",
        "MaxKaminCross : []\n",
        "MoreMag : ['#longreads']\n",
        "NARAL : ['cpc', 'contest', '#vagov', '#antichoice', '#reprorights', '#hb2', '#hr1797', '#standwithtxwomen', '#birthcontrol', '#menforchoice', '#prochoice', '#standwithwendy', '#masen']\n",
        "NV_Advocates : []\n",
        "HadleyFreeman : ['shd', 'guardian', 'guardian.co.uk', 'arthur', 'dispirit', 'topshop', 'hadlei', 'tush', 'curti']"
       ]
      },
      {
       "output_type": "stream",
       "stream": "stdout",
       "text": [
        "\n",
        "benschott : ['splendid']\n",
        "10yearBonds : []\n",
        "247WallSt : ['ipo', 'foreclosur', 'recess', 'buyout', 'djia']\n",
        "4Tanguay : []\n",
        "5280Magazine : ['31', 'denver', 'sponsor', 'colorado', '5280', 'bronco']\n",
        "5_min_macro : ['mkt']\n",
        "ABWashBureau : ['jpm', 'gse', 'occ', 'lew', 'cordrai', 'banker', 'dimon', 'cfpb', 'fdic', 'bernank', 'halo', 'trek', 'warren', 'dodd-frank', '#regulatory13']\n",
        "APStylebook : ['ap', 'tip', 'stylebook', 'style', '#apstylechat']\n",
        "ATryphonides : []\n",
        "A_F : ['$aapl', '$spy']\n",
        "Aalliende : ['#fb']\n",
        "AcrossTheCurve : ['zb', 'metra', 'cme', 'madigan', 'curv', 'spooz', 'dime', 'spoo', 'peep']\n",
        "AkronsBobert : []\n",
        "Alan_Duerden : ['#lfc']\n",
        "AlexAkesson : ['fund', 'hedg']\n",
        "AlphaVN : []\n",
        "AmazonKDP : ['reader', 'write', 'author', 'writer', '#quote', '#bea13', '#indiepub']\n",
        "AmbassadorRoos : ['3.11', 'japan']\n",
        "Ananicolaci : []\n",
        "AnastasiadesCY : ['#cyprus']\n",
        "AndreaHotter : ['lme', 'aluminium', 'commod', 'copper']\n",
        "AndyHarless : ['iow', 'keynesian', 'krugman']\n",
        "AndyLangenkamp : ['b/c', 'geopolit', 'voor', '#eu', '#g8', '#europe', '#china', '#fed', '#eurozone', '#eurocrisis', '#assad', '#merkel', '#berlusconi']\n",
        "AnnalynKurtz : ['paulson', 'bernanke', 'esther', 'bernank', 'dudlei', 'volcker', '#jacksonhole']\n",
        "Annika_Reuters : ['#tvduell', '#merkel', '#german']\n",
        "AristidesHatzis : ['lyric', 'greec']\n",
        "AztecOptions : []\n",
        "BChappatta : ['#muni', '#muniland', '#detroit', '#illinois']\n",
        "BDAmerica : ['sec', 'fiduciari', 'detroit', 'issuer', 'bond', 'muni', 'msrb', 'municip']\n",
        "BGIPfund : []\n",
        "BIConline : ['millenni', 'retir', 'referr', 'advisor', 'bank', 'wealth', 'client', '#advisors']\n",
        "BLNCruzer : []\n",
        "BUphamT : []\n",
        "Bank_of_Japan_e : ['japan', 'monetari']\n",
        "BeingRegulated : ['finra', '#shutdown']\n",
        "Benzinga : ['etf', 'brent', 'barron', 'eisman', 'eurozon', 'euro', 'webinar', 'benzinga', 'slideshow', 'coolpix', '$ba', '$fb', '$pg', '$msft', '$nflx', '$dish', '$dell', '$goog', '$aapl', '$bbry', '$amzn', '$jcp', '$hlf', '$fed', '$dis', '$mcd', '$spy', '$znga', '$yhoo', '$vvus', '$sbux', '$tsla']\n",
        "BergenCapital : ['qtr', 'chatter']\n",
        "BigBlueTent : ['tent', 'trend']\n",
        "BigJournalism : ['cnn', 'media', 'npr', 'zimmerman', 'jazeera', 'msnbc', 'drudg', 'breitbart', 'politico', 'wapo']\n",
        "BirchCreekCap : ['#rmbs']\n",
        "BlackRaven999 : []\n",
        "Blackhorse : []\n",
        "EvelynRusli : ['fb', 'rt', 'wsj', 'zynga', 'mattrick', 'bezo', 'kara', 'pincu', 'sticker', 'ping', 'zuck', '#d11']\n",
        "Tim_Stevens : ['e3', 'ax', 'hah', 'engadget', 'wahei', 'liveblog', 'cnet', '#throughglass']\n",
        "gte : ['bah', 'nilai', 'terrif', 'napkin', 'shill', 'debug', 'bb10', 'jackass']\n",
        "DirtyWars : ['http://dirtywars.org/contact', 'http://www.dirtywars.org', 'http://dirtywars.org', 'tmw', 'rowlei', '30pm', 'scahil', 'theater', 'film', 'word-of-mouth', 'showtim', 'jeremyscahill', '#dirtywars', '#s13']\n",
        "RollingStones : ['setlist', 'monkei', 'stone', 'mick', '#stoneshydepark', '#therollingstones', '#stones50', '#stonesglasto']"
       ]
      },
      {
       "output_type": "stream",
       "stream": "stdout",
       "text": [
        "\n",
        "FilmCritHULK : ['problemat', 'caveat', 'atcha', 'gmail.com', 'hulk', 'tact', 'yeezu', 'themat']\n",
        "Gary_Bainbridge : ['ita', 'liverpool', 'column', 'scouser', 'moos', 'keri', 'gita', 'sedari', '#xfactor', '#thewrightway', '#guardiancoffee', '#theapprentice', '#bbc4']\n",
        "2lovebeer : ['#dating', '#love', '#beer']\n",
        "3RiversBrewery : ['00pm', 'half-pric', 'farmington', 'taproom', 'pizzeria']\n",
        "4pawsbrewing : ['paw', 'fawn', 'edgewat', 'brindl']\n",
        "AGonzalezAquino : ['toronto', 'enjoi', 'drink', '#photo']\n",
        "AbbeyStMartin : ['dilbert', 'washingtonpost', 'mashabl', 'arstechnica', 'huffingtonpost', 'reuter', 'gizmodo', 'nytim', 'foto', 'forb', 'wire', 'boingbo', '#mlb', '#music', '#beer']\n",
        "AlmanacBeer : []\n",
        "AnarchyBrewCo : ['ay', 'canni']\n",
        "AnchorBrewing : ['anchor', 'cheer', 'greet', '#sf', '#anchorsteam', '#raiseyouranchor', '#sanfrancisco']\n",
        "ArgusBrewery : ['argu', '#chicago', '#cheers', '#beer']\n",
        "ArranBrewery : ['arran']\n",
        "AtlasBrewing : ['dipa', 'stein', 'atla', '#ccbw']\n",
        "BHB_brews : ['coc', 'beavi', 'mudhonei']\n",
        "BeerAdvocate : ['ba', 'mainten', '#boston', '#california', '#craftbeer']\n",
        "BeerAndSoulBlog : ['hip-hop', 'oakland', 'hella']\n",
        "BeerBods : ['matt', 'postcod', '#beerbods']\n",
        "BeerUnion : ['ny', '#ny', '#local', '#nyc', '#homebrew', '#craftbeer']\n",
        "Beer_Disciples : ['beerdiscipl', '#beer', '#craftbeer']\n",
        "Beer_Goddess : ['belmont', 'badg', \"o'clock\"]\n",
        "BeersIveKnown : ['whiski', 'belfast', 'rateb', 'bristl', '#ebbc13', '#jura50tt']\n",
        "Beertographer : ['barleywin']\n",
        "Bierschenke : ['#championsleague']\n",
        "BlueBellHalkyn : ['booz', 'blue', 'graham']\n",
        "BluffersGuide : ['bluff', 'bluffer', '#quiz', '#win']\n",
        "BreckBrew : ['denver', 'breckenridg', '23rd', 'hootenanni', 'cape']\n",
        "BrewDogBarDean : ['yea', 'manchest', 'brewdog', 'manc']\n",
        "BrewEngland : ['b', 'pj', '#somerville']\n",
        "Brewery85 : ['buddi', 'yeast', '#scbeer', '#hunt4b85']\n",
        "BrianIsBeering : ['nhc', 'fart', '#homebrew']\n",
        "BubOhioBeer : ['cbu', 'pup', 'osu', 'ginger', 'cantillon', 'puppi', 'volleybal', 'amelia', 'crossfit', 'siberian', 'columbu', 'bengal', 'kickbal', '#bengals']\n",
        "BullCityBurger : ['octoberfest', 'durham']\n",
        "ButcombeBrewery : ['owl', 'w/e', 'breed', 'ashton', 'butcomb', 'boul', 'grei', 'bitter', ';p']\n",
        "ConistonBrewCo : ['bri', 'yai', 'bluebird', 'gina', 'coniston', ':-)', ':-d', ';-d', ';-)', '#perfect']\n",
        "CraftingANation : ['#atx', '#stl', '#craftbeer']\n",
        "CromartyBrewing : ['emm', 'rocker', 'chappi', 'cheer']\n",
        "DFDband : ['vid', 'acoust', '#daylightfordeadeyes', '#toronto']\n",
        "DailyBeerNews : ['th', 'l.a', 'via', 'salari', 'teaser']\n",
        "Dryhopchicago : ['dug', 'growler', 'collab', 'brewer']\n",
        "DueSouthBrewing : ['south', 'categori']\n",
        "DukesJoint : ['hannah', 'beaver', 'duke', 'meat', 'waiter', '\u2764', '#meat', '#yum']\n",
        "EHobbz : ['penros', 'geneva']\n",
        "EasyTigerATX : ['austin']\n",
        "FGW : ['jo', 'tj', 'paddington', '1/2', 'eli', 'dan', 'reg', 'log', 'max', 'heather', 'pullman', 'journei', 'overnight', 'carriag', 'firstgroup.com', 'swindon', 'arran', 'passeng', 'fare', 'railcard', 'lewi', 'john', 'jess', 'tara', 'toni', 'olli', 'paul', 'georgi']\n",
        "FallCreekWines : []"
       ]
      },
      {
       "output_type": "stream",
       "stream": "stdout",
       "text": [
        "\n",
        "FiremansBrew : ['brunett', 'fireman', 'redhead', 'extinguish', 'firefight', '#firefighters', '#cheers']\n",
        "FirestoneWalker : ['fw', 'merkin', 'finder', '#fwibf']\n",
        "ForumBooks : ['bookshop', '#inferno']\n",
        "FullCircleBrews : ['2000', 'derbi']\n",
        "GarrisonBrewing : ['ns', 'tk', 'garrison', 'halifax', 'ohhh', '#nscraftbeer']\n",
        "Goats_Udder : ['metal', 'grim', '#sd', '#sdcc', '#fwibf', '#boozebooks', '#bourbon', '#metal']\n",
        "Gordon_Biersch : []\n",
        "3_News : ['4g', 'prepai', 'robbi', 'ireland', 'dugout', '#3benchguy', '#supportworks']\n",
        "AbiePB : ['comedi', 'belfast', 'ireland', 'dublin', '#vinb', '#todaypk', '#newsnight', '#eurovision']\n",
        "Amanda_Statham : ['guidebook', 'bubbli', 'cosmo', 'honeymoon', '#luxvox', '#jamaica']\n",
        "AmyDavies : ['ukulel', 'howard', 'cardiff', 'thankyou', 'flamingo', 'howi', 'chord']\n",
        "Arganic_UK : ['take-awai', 'moroccan', 'argan', 'morocco', 'marrakech', '#marrakech', '#iodac', '#fbc5']\n",
        "Ayngelina : ['ecuadorian', 'galapago', 'ecuador', 'maui', 'girona', 'cuenca', '#ecuador', '#bloghouse', '#feelmorealive', '#incostabrava']\n",
        "BBCGoodFoodShow : ['scotland', 'tesco', 'michel', '#saturdaykitchen', '#masterchef', '#bbcgfs', '#recipeoftheday', '#thechefsprotege', '#celebmasterchef', '#celebritymasterchef', '#gbbo']\n",
        "Bea_John : ['nh', 'sweeti', 'ascot', 'grandma', 'chum', 'dulwich', 'weep', 'ohmygod']\n",
        "Beergenie : ['glasswar', 'pleasur', 'splendid', '#europeday', '#bgcomp', '#gbbf']\n",
        "Ben_Mulock : ['normandi', 'mate', 'opera', 'treacl']\n",
        "BertinetKitchen : ['bon', 'dough', 'demo', 'bonn', 'bath', 'prune', 'crust', 'bertinet', 'doughnut', '#bread', '#realbread', '#breadchat', '#pastry', '#bath']\n",
        "Bosleypatch : ['b4', 'sow', 'veg', 'geocach', 'gilli', 'carpark', 'rhino', 'compost', 'henlei', 'landi', 'shed', 'grower', '#localfood', '#britishveg']\n",
        "BristolBites : ['bavarian', 'brava', 'balconi', 'kitten', 'bristol', '#belowtheline']\n",
        "BritAsparagus : ['asparagu', 'spear']\n",
        "BriteUK : ['workshop', 'event', 'eventbrit', '#eventprofs', '#smwldn']\n",
        "BurtsChips : ['sid', 'gamma', 'roddi', 'felix', 'caption', 'hurrah', 'burt', 'guin', 'soni', 'crisp', '#gbbo', '#didyouknow']\n",
        "CaptGreybeard : ['quest', 'kamloop', 'cabin', 'svalbard', 'cruis', 'crane', '#norwegianbreakaway', '#granddesigns', '#dragonsden', '#cruise', '#eagles', '#bafta', '#skyf1', '#educatingyorkshire', '#uclfinal', '#hignfy', '#eurovision2013', '#royalprincess', '#bbc4']\n",
        "CartmelSticky : ['pud', 'wkend', '#cartmel']\n",
        "CharlesYap : ['sonia', 'tweetup', 'layov', 'singapor', '#sghaze', '#skywire', '#dctraveltweetup', '#travel', '#traveltuesday', '#frifotos']\n",
        "Chocoralie : ['week-end', 'shoreditch', 'bordeaux', 'espresso', 'kickbox', 'turin', 'trafalgar', '#nantes', '#shoreditch', '#seaside', '#berlin', '#cocktail', '#brighton', '#beauty', '#paris', '#turin', '#newtradition', '#book']\n",
        "CityJohn : ['croydon', 'matei', 'tosser', 'wimpi', 'balham', 'putnei', 'bellend', 'sisko', 'spelt', 'battersea', 'wank', 'wanker']\n",
        "CorkEveningEcho : ['ireland', 'cork', 'munster', 'lion', 'gardai', '#corkecho']\n",
        "CraneTV : ['eic', '#ldf13', '#lcm', '#lfw', '#fny13', '#venicebiennale', '#artbasel']\n",
        "CriticalCouple : ['epl', 'nikon', 'ledburi', 'natwest', 'auction']\n",
        "CrumbsMag : ['snaffl', 'foodi', 'crumb', '#supperclub', '#bristol', '#ofa', '#gfwawards', '#recipe']\n",
        "DFergPR : ['psfk', 'walken', '#motd', '#championsleague', '#thevoiceuk', '#drwho']\n",
        "DineHard : ['rah', 'lucia', 'daylight', 'fuckwit', 'sipsmith', 'innuendo', 'southcliff', 'finchlei', 'majorca', 'foof', 'graze']\n",
        "DoktorG : ['ci', '5km', 'glitter', 'ghastli', 'quaf', ':-(', '#bbcqt', '#luther']\n",
        "DominiqueAnsel : ['hm', 'cronut', 'souffl', 'pre-ord', \"s'more\", '#cronut', '#cronuts']\n",
        "EastVillageLDN : ['london', 'stratford', 'newham', 'ceremoni', 'east', 'henri', '#london']\n",
        "Eater : ['ferran', 'cronut', 'bourdain', 'listag', 'cookbook', 'chef', 'deen', 'eater', 'noma', 'paula', 'restaur']\n",
        "EatingAsia : ['fr', 'bec', 'ist', 'h/t', 'turkei', 'turkey', 'malaysia', 'taipei', 'malaysian', 'penang', 'istanbul', 'pple', '#booze', '#photography', '#streetfood', '#istanbul']\n",
        "FelicitySpector : ['quark', 'lunchbreak', 'ravioli', 'mirabel', 'kerb', 'browni', '#c4news', '#greattasteawards']\n",
        "Finelychopped : ['tk', 'alu', 'aah', 'bombai', 'indigo', 'kolkata', 'kashmiri', 'ramzan', 'paratha', 'bangalor', 'bandra', 'macaron', 'delhi', 'mumbai', 'dada', 'bong', 'biryani', 'parsi', 'ling', 'fort', 'calcutta', 'gurgaon', 'bengali', 'dadar', '#tvpchat', '#finelychoppedwalk']\n",
        "FleurDeGuerre : ['diari', 'vintag', 'catchup', '#goodwoodrevival', '#lastfm']\n",
        "Food52 : ['provis', 'eggplant', 'hotlin', 'clara', 'jell-o', 'food52', '#dinnertonight', '#meatlessmonday', '#recipeoftheday', '#genius']\n",
        "FoodTravelCo : ['http://www.thefoodtravelcompany.com/diary.asp', 'xx', 'xxx', 'sicili', 'schnapp', 'cumbria', 'truffl', '#ff', '#sweden', '#somerset', '#onthemenu', '#cornwall', '#cumbria', '#eggaward', '#cheese']\n",
        "FoodUrchin : ['fu', 'elderflow', 'aha', 'faf', 'meeja', 'bbqing', 'sauvignon', 'essex', 'allot', 'shizz', 'seasick', 'fack', 'fark', 'aldi', 'lanki', 'gorn', 'psst', 'poxi', 'yoof', '#eatscandi', '#foodtube']\n",
        "Foodandthefab : ['j', 'gal', 'yip', 'uhm', 'saigon', 'soonest', 'vietnam', 'aaah', 'lass', 'jozi', 'durban', ';-p', '\u1f609', '\u1f497', '#capetown', '#southafrica', '#lovecapetown', '#mymauritius', '#favthings', '#seetheworld', '#food', '#howto', '#loop', '#vineapp']"
       ]
      },
      {
       "output_type": "stream",
       "stream": "stdout",
       "text": [
        "\n",
        "GinGarden : ['gin', 'hoorai', 'oooo', '#worldginday', '#gin']\n",
        "GingerPigLtd : ['phwoar', 'borough', 'yorkshir', '25th', 'butcheri', 'butcher', '#cuts']\n",
        "GizziErskine : ['xx', 'bub', 'pal', 'xxx', 'xxxxxx', 'ronni', 'kimchi', 'xxxxx', 'xxxx', '#ibiza']\n",
        "GoSeeWrite : ['yea', 'throne', 'ummmm', 'metric', 'ummmmm', 'ecuador', 'hostel', 'ahhhh', 'ahhhhh', 'berlin', \"ya'll\", 'peru', 'girona', '\u25b6', '#longreads', '#tbex', '#bloghouse', '#archives', '#luxvox', '#incostabrava', '#coloursofperu']\n",
        "Greatbigrobot : ['#win', '#royalbaby']\n",
        "GuildFoodWriter : ['shortlist', 'award', '#gfwawards']\n",
        "Henriettagraham : ['mykono', 'easel', 'hehe', 'greec', 'ritz', 'cheltenham', 'paint']\n",
        "49ers : ['mm', 'minicamp', 'touchdown', 'candlestick', 'harbaugh', 'gore', 'gamedai', 'kickoff', 'kaepernick', '#sfvssea', '#49ers', '#kickoff2013', '#camp49', '#nfltop100']\n",
        "ABeckr : ['#titleswithnachos']\n",
        "ACLINews : []\n",
        "ASE : ['ht', 'crowdsourc', 'ahm', 'ish', 'inshallah', 'huffington', 'friedman', 'shukran', 'palestinian', 'amman', 'aspen', 'assaf', 'dictatori', '#veterans', '#scaf', '#amtrak', '#israel', '#drones', '#santorini', '#twitter', '#kuwait', '#gay', '#trayvonmartin', '#wef', '#nyt', '#mlk', '#snowden', '#palestine', '#lebanon', '#tahrir', '#northkorea', '#afghanistan', '#franklinproject', '#saudi', '#obama', '#occupygezi', '#brazil', '#egypt', '#aljazeera', '#rollingstone', '#guantanamo', '#morsi', '#google', '#yemen', '#iraq', '#worldbrief', '#helenthomas', '#qatar']\n",
        "ActuallyJZ : []\n",
        "AdamSerwer : ['vra', 'frisk', 'mharrisperry', 'amash', 'scalia', 'butler', 'comei', 'jewish']\n",
        "AlAKleine : []\n",
        "AlanFisher : ['castro', 'fisher', 'alan', '#5things', '#aje', '#oklahoma']\n",
        "Alancumming : ['macbeth']\n",
        "AlbertoNardelli : ['y/y', 'merkel', 'visualis', 'italy', 'berlusconi', 'lazio', 'juve', 'balotelli', '#btw13', '#china', '#italy']\n",
        "AlexKoppelman : ['raven', 'blasio']\n",
        "AlexSchriver : ['h/t', 'alabama', 'millenni', 'politico', 'buzzfe', 'auburn', '#alpolitics', '#al01']\n",
        "AlexisGelber : ['techpresid']\n",
        "AlyWeisman : ['#vmas', '#emmys']\n",
        "AmbShapiro : ['uss', 'israel']\n",
        "AmberLyon : ['psychedel']\n",
        "Amber__McDonald : ['tampa', '#tedxpoynter', '#florida', '#tampa']\n",
        "AmericanAir : ['aj', 'flight', 'rebook']\n",
        "American_Bridge : ['lonegan', 'akin', 'cuccinelli', '#vagovdebate']\n",
        "AndrewKirell : ['megyn', 'wfb', 'teh', 'malkin', 'kristol', 'cavuto', 'librul', 'trollish', 'mesothelioma', 'bashir', 'overwrought', 'stossel', 'erickson', 'geraldo', 'mediait', 'gatsbi', 'breitbart', 'dylan', 'twitchi', 'bruh', 'starn', 'koch', 'kany', 'lulz', 'hehe', 'gta5', 'uhhh', 'libertarian', 'sub-tweet', 'shep', 'partisan', 'watter', 'kendrick', 'pitchfork', '#vmas', '#snl', '#yeezus']\n",
        "AnitaSpadaro : []\n",
        "AnneBell : ['pb', 'newshour', '#newshourchats']\n",
        "ArunRath : ['likewis', '#gitmo', '#manning']\n",
        "AshleyJudd : ['ky', 'haiku', '#divergent']\n",
        "AskAkbar : []\n",
        "BenRothenberg : ['no1', 'y.o', 'gmail.com', '#rg13', '#cincytennis', '#wimbledon', '#usopen', '#citiopen', '#eurovision', '#daviscup', '#halle']\n",
        "CeceliaJP : []\n",
        "FortyDeuceTwits : ['b/c', 'syd', 'frickin', 'robbo', 'applebe', 'errybodi', 'bojangl', 'jamie', 'augh', 'nwsl', 'tobin', '#wtalive', '#baon']\n",
        "4SaferInternet : ['#identitytheft', '#piracy', '#drugs', '#malware', '#online', '#bitcoin', '#cybercrime']\n",
        "AAF : ['aca', 'eakinom', 'regul', 'medicar', 'dish', '#immigration']\n",
        "AFPhq : ['org', '#makedclisten', '#stopcommoncore', '#dream13', '#farmbill', '#obamacareinthreewords', '#obamacare']\n",
        "AFinnie : ['pc', 'amc', 'cupertino', 'envi', '#oitnb', '#winchat']\n",
        "AHMalcolm : ['http://latimes.com', 'pal', 'fallon', 'obama', 'letterman', 'leno', 'impt', 'conan', '#tcot', '#cspan']\n",
        "AaronBlakeWP : ['booker', 'aaron', 'cruz', 'christi', 'kerri']\n",
        "AaronMcCready : ['aaron', 'atlanta', '#tcot']\n",
        "Aarongorn : []\n",
        "AdairsvilleRob : []\n",
        "AlanJSanders : ['cass', '#tcot', '#tlot']\n",
        "AlexConant : ['rubio', 'marcorubio']"
       ]
      },
      {
       "output_type": "stream",
       "stream": "stdout",
       "text": [
        "\n",
        "AlexSkatell : []\n",
        "AliBrown : ['biz', 'entrepreneur', 'cynthia', 'takeawai', '#biztip']\n",
        "AliceLinahan : ['cscope', 'core', 'strau', 'texan', 'prai', 'ratliff', '#txed', '#cscope', '#makedclisten', '#stopcommoncore', '#stand4life', '#txlege', '#commoncore', '#noamnesty', '#stopcscope']\n",
        "AllenWest : ['potu']\n",
        "AmandaCookWSB : ['#wsbtv']\n",
        "AmandaJoFreel : []\n",
        "AmbJohnBolton : []\n",
        "AmberMarchand : ['#rpv2013', '#immigration', '#obamacare']\n",
        "AmeliaChasse : ['#vagov', '#vagovdebate']\n",
        "AmericanXRoads : ['barackobama', '#tcot']\n",
        "AmericasRight : ['#sharknado', '#chs', '#sc1', '#nameobamasnewwar']\n",
        "Anderson33 : []\n",
        "AndrewCMcCarthy : ['moder', '#zimmerman', '#benghazi']\n",
        "99forever : ['leaf', 'racetrack', '#leafs', '#indysaopaulo', '#detroitgp', '#indy500orbust', '#indycar', '#2into']\n",
        "AustinGrandPrix : ['mt', '#f1', '#v8sc', '#cotawec']\n",
        "Bix_Barton_SW6 : ['boater', 'tweetcast', 'cockwombl', 'kingston', \"this'll\", '#got', '#ashes', '#cricket', '#nietzsche', '#ct13']\n",
        "Claudia05SV : ['cu', 'ce', 'nu', 'pe', 'sa', 'asa', 'dar', 'cum', 'seb', 'mda', 'simona', 'beliv', 'ohhhh', 'sebastian', 'pentru', 'kaka', 'gata', '#vamos', '#germangp', '#mufc', '#motogp', '#ugh', '#belgiangp', '#cincinnati', '#vamosrafa', '#moscow2013', '#couperogers', '#moto2', '#monza', '#bcn2013', '#monacogp', '#cmon']\n",
        "Dinalli : ['iv', 'mag', 'ydt', 'defo', 'damm', 'leed', 'toon', '#f1chat']\n",
        "Drivin4Pleasure : ['http://drivingforpleasure.co.uk', 'gro', 'nik', 'mate', '#lotus', '#ferrari', '#amg', '#senna']\n",
        "EJVISO : ['venezuela', 'gracia', 'viso']\n",
        "EliGP : ['wtcc']\n",
        "EmBuxton : ['brookland', ':-d', '#wsr', '#grandam', '#elms']\n",
        "FakeDelRosario : ['awh', 'viv', 'nando', 'pedro', 'vivian', '#f1', '#eurovision2013']\n",
        "FakeFernando : ['raquel', 'eyebrow', 'felip', 'goodwood', 'chican', 'sheffield', 'paella', 'vivi', 'chloe', 'prat', 'gunna', 'kamui', 'dasha', ';(', '\u25b8', '#monaco', '#bbcf1', '#pointless', '#eurovision', '#f1films']\n",
        "FakeMedicalCar : ['sl', 'doc', 'ohhhhh', 'errr', 'immens', 'errrrrrr', 'stow', 'ahhhhhh', '#f1', '#singapore', '#silverstone', '#steak']\n",
        "FakeTomita : ['#f1', '#alonso', '#canadiangp', '#monacogp', '#spanishgp']\n",
        "Fake_Maldonado : []\n",
        "GARSIDEK : ['westwood', 'merion', 'wentworth', 'tdai', 'zaha', '#mcfc', '#mufc', '#afc', '#cfc']\n",
        "GP2_Official : ['gmt', ':-d', '#gp2']\n",
        "GP3_Official : ['13.30', 'nurburgr', '#gp3', '#monzamash', '#alleyesonus']\n",
        "GrandPrixDiary : ['ger', 'steward', '\u00a320,000', 'sauber', 'tamara', 'raffl', 'shunt', 'bild', 'twenti', 'damon', '#lm24']\n",
        "IamLewis4fake : ['rbr', 'soz', 'wdc', 'tho', 'lewlew', 'frickin', 'havent', 'wasnt', 'didnt', 'dont', 'werent', 'pmsl', ':-(', ';-)', '#justsaying', '#queens', '#topgear', '#tdf', '#england', '#facup', '#testgate', '#justwondering', '#f1films', '#lm24', '#btcc']\n",
        "JacquesDebris : ['caution', '#nascar']\n",
        "Jalopnik : ['vw', 'bmw', 'horsepow', 'motorcycl', 'corvett', 'delorean', 'cadillac', 'automot', 'jalopnik', 'detroit', 'volvo', 'mustang', 'drift', 'subaru', 'fisker', 'fiat', 'hit-and-run', 'alfa', 'pontiac', 'jaguar', 'jeep', 'tesla', 'supercar', 'saab', 'lamborghini', 'burnout']\n",
        "Just_AP : ['im', 'gahhh', 'roomi', 'charlott', 'arca', 'phuck', 'kiddo', 'dafuq', '\u1f60A', '\u1f60F', '\u1f62B', '#lefturn', '#kneast', '#thebachelorette']\n",
        "LeighOGorman : ['f3', 'ay', 'wec', 'meanwhil', 'anyhoo', 'hahaa', \"y'know\", '#indy500orbust', '#dtm', '#wrc', '#fiaf3', '#fiaerc', '#24lm', '#spa24h', '#6hsp', '#wrclive']\n",
        "LewisFranck : ['2c', 'indy500', 'smh', 'menard', 'frikkin', 'enviou', 'amico', 'arlen', 'sulia', 'five-tim', 'foyt', 'ha-ha', 'otoh', '#nascar', '#irony', '#repost', '#kidding']\n",
        "LordHumphreys : ['pamplona', 'dublin', '#celebapprentice', '#mazdaroute3']\n",
        "MP4_28Evil : []\n",
        "MauriceHamilton : ['brawn', '#f1']\n",
        "MaxGraham : ['33', 'dd', 'dj', '333', 'ddd', 'def', 'looool', 'loool', 'hahahahah', 'djing', 'tracklist', 'hahahah', 'ableton', 'bali', 'diff', 'soundcloud', 'lool', 'tranc', 'hahaaa', 'loooool', '#cyclesradio']\n",
        "Mikeconway26 : ['buddi', 'mega', 'mate']\n",
        "OfficialMinis : ['http://www.losminidrivers.com/p/minitv-online.html', 'minidriv', 'piloto', 'chapter', 'motogp', 'helmet', 'mini', 'comic', 'minibik']\n",
        "PippaMann : ['wld', 'thankyou', 'dunk', 'fontana', ';)', '\u263a', '\u1f601', '#justsayin', '#tweetup', '#behindthescenes', '#indy500', '#rushmovie', '#beatcancer', '#indylights', '#whatturn4', '#gpob', '#indy', '#teamcyclopsgear']\n",
        "RacingLight : ['muslim', '#britishgp', '#eurovision2013', '#dambusters70', '#monacogp']\n",
        "RyanEversley : ['dp', 'atl', 'ctf', 'naa', 'ufc', 'thx', 'leman', 'daytona', 'amigo', 'jiujitsu', 'luge', 'lalli', 'vine', 'civic', 'conti', 'hombr', 'hinch', '#nailedit']"
       ]
      },
      {
       "output_type": "stream",
       "stream": "stdout",
       "text": [
        "\n",
        "4AllSurfaces : ['uswnt', 'rod', 'ohh', 'foward', 'disapoint', 'intrest', 'gymnast', 'apparatu', 'kyla', 'mckayla', 'gool', 'thier']\n",
        "5livetennis : ['wowsa']\n",
        "AAMIClassic : []\n",
        "A_Gallivant : ['usu', 'fanfic', 'fedfan', 'bodo', 'duan', 'wimbli', \"ya'll\", 'tussl']\n",
        "Adamdbain : ['jp', 'marinko', 'berni', 'toowoomba', 'duckworth', 'feenei', 'istomin', 'mate', 'cairn', 'groth', 'qual', '#nkrising', '#washington', '#protour', '#futures', '#tokyo', '#bangkok']\n",
        "Ataraxis00 : ['po', 'alrighti', 'shriver', 'omgosh', 'grisha']\n",
        "BadToss : ['slovak', 'stakh', 'muzz', '#illini']\n",
        "BreakPointBR : ['em', 'ab', 'com', 'tem', 'quadra', 'salvou', 'agora', 'contra', 'erro', 'jogo', 'match-point']\n",
        "ByJoeFleming : ['ap', 'afp', 'gty', 'golli', 'getti', 'apiec', 'usat', 'tiger']\n",
        "ChrisSkelton87 : ['rewind', 'non-major']\n",
        "DjFlowe : ['fc', 'hawaii', 'brasil', 'kauai', '#np', '#phillies', '#hawaii', '#uswnt', '#usmnt', '#nwsl', '#clfinal', '#philly', '#justsayin', '#kauai', '#epl', '#ucl', '#snf', '#smh', '#nba', '#nfl', '#mls', '#80s', '#followback', '#fightnight', '#flyers', '#eagles', '#usoc100', '#confedcup', '#teach', '#goldcup', '#doop', '#bplonnbc']\n",
        "ESPNTennis : ['espnw', 'espn2', 'espn3', 'bryant', 'garber', '#espntennis', '#manicmonday', '#mensfinal', '#espnwimbledon', '#rafanole35']\n",
        "EleVenbyVenus : ['floral', 'protein', 'humm', 'eleven', 'plank', '#fitness']\n",
        "FitLen : ['bc', 'ur', 'yh', 'hah', 'ikr', 'ppl', 'edberg', 'gotcha', 'riiiiight', 'awww', 'riiiiiight', '#dexter', '#tdf', '#twitterrevolution', '#gators', '#espys', '#nbafinals', '#delpo']\n",
        "G2H_95 : ['mirka', 'gymnast', 'nose', '#thevoiceuk', '#hahahaase', '#eurovision2013']\n",
        "GBtennis : ['gb', 'ch', '10k', 'balli', 'evo', 'fqr', 'ctd', 'qr2', 'lta', 'forum', 'bet365', 'jonni', \"d'oh\", ':-)', ';-)']\n",
        "JLR78 : ['ooohhh', 'geesh', 'bosnian', 'bela', 'catfish', 'shin', '\u2661', '#homeland']\n",
        "JamesLaRosa : ['jelena', '#hitthefloor']\n",
        "JayJarrahi : ['barca', 'ftr', 'tbf', 'ncr', 'lotta', 'urszula', 'elina', 'betfair', 'valeri', 'ledecki', '10min', 'bookmak', 'dhoni', 'fede', 'overrul', 'jenkin', 'iirc', 'jmdp', 'elisha', 'coria', 'cowan', 'ruan', 'atletico', 'cadantu', '#brutal']\n",
        "Jonirja : ['martha', '111', 'bby', 'sob', 'lbh', 'samuel', 'chantel', 'denis', 'concubin', 'athletic', 'agil', 'gurl', 'tute']\n",
        "Kamakshi_Tandon : []\n",
        "LeTenisse : ['arg', 'pau']\n",
        "MallerMarcelo : ['river']\n",
        "MendezVega : ['enhorabuena', 'jeje']\n",
        "MindTheRacket : ['yuuuuup', 'simona', 'frankli', 'klaxon', 'wooli', 'sorana', ':p']\n",
        "MungoNGus : ['gu', 'xo', 'a.m', 'mte', 'vit', 'frank', 'berdi', 'vasek', \"g'night\", \"g'morn\", 'mungo', 'sheesh', 'bahaha', 'sammi', 'cont', 'flav', 'jaysu', 'jiri', 'gawd', 'coyot', 'czech', 'xd', '#nontennis']\n",
        "NYTSports : ['bat', 'met', 'n.b.a', 'n.f.l', 'n.h.l', 'ranger', 'replai', 'roundup', 'blackhawk', 'rutger', 'dribbl', 'rail', 'penn', 'basebal', 'knick', 'in-box', 'rodriguez', '#yankees']\n",
        "NailaJeanMeyers : ['http://nytimes.com', 'lundqvist', 'ranger', '#vmas', '#madmen', '#nyr', '#emmys', '#becauseitsthecup', '#gameofthrones']\n",
        "Nic_Leigh : ['k', 'o.o', 'facepalm', 'lolol', 'kiersten', 'rotfl', 'elena', 'darlin', 'winni', 'colton', 'hurrai', 'maestro', 'novak', 'eyerol', 'eric', 'headdesk', 'knit', 'w00t', 'yeesh', 'yarn', 'girlio', 'tulsa', '<3', ';d', '#dt']\n",
        "Pep_Guti : ['iv', 'ix', 'ii', 'vi', 'iii', 'vii', 'viii', ';-)']\n",
        "RD_Tennistalk : ['sportscent', 'woodsh', 'scorelin', 'somdev', '#merica', '#epic']\n",
        "Ratazana : ['pvr', 'zhang', 'vashi', 'magnific', 'kimiko', 'milo', 'peng', '#rogerscup']\n",
        "ReemAbulleil : ['th', 'uae', 'dubai', '#madrid', '#uae']\n",
        "RoadtoRG : ['#rg13', '#roadtorg']\n",
        "RomiCvitkovic : ['yea', 'hahahah', 'hahah', 'hahha', '#loveit', '#murray', '#citiopen', '#ashe']\n",
        "Rossana_Capo : ['rog', 'muzza', 'ahah', 'geez', ':-d', ';-d', '#federer']\n",
        "SI_BTBaseline : ['btb', 'mailbag', '#rg13', '#cincytennis', '#atp', '#wta', '#wimbledon', '#usopen', '#daviscup']\n",
        "SavannahsTennis : ['ufe', 'tennistv', 'cont', 'comm', 'gown']\n",
        "StephintheUS : ['marina', 'nz', 'w/e', 'onsit', 'cmon', 'princeton', 'wtih', '#newport']\n",
        "TennisCoconut : ['ernie', 'ferru', 'usopen', 'erni', 'puta']\n",
        "Tennis_Belgium : ['maliss', 'goffin', 'flipken']\n",
        "Tennisfan24 : ['masha', 'lleyton', 'cmon', 'wawa']\n",
        "TheBigLead : ['memphi', 'lebron', 'birdman']\n",
        "TheBoiledEgg : ['http://fllwrs.com', 'qv', 'pt', 'manur', 'brito', 'djoker', 'harman', 'tahiti', 'doesnt', 'shouldnt', 'arent', 'muppet', 'kvitti', 'hercog', 'alot', 'isnt', 'hopeless', 'tourn', 'tmrw', 'sori', 'scum', 'kooki', '#rolandgarros', '#facepalm', '#yikes']\n",
        "TheGrandSlams : ['hl', 'snatch', 'libra', 'miley', 'britnei', 'britney', 'werk', '#oh', '#cbb', '#sob', '#lol', '#xfactor', '#thevoiceuk', '#dead', '#bbuk']"
       ]
      },
      {
       "output_type": "stream",
       "stream": "stdout",
       "text": [
        "\n",
        "TheShiftyShadow : ['mam', 'saoirs', 'villa', 'setanta', 'goodread', 'snowmen', '#lions', '#gaa', '#thevillage', '#pointless', '#educatingyorkshire', '#thefall', '#bcn2013', '#downton', '#grahamnorton', '#avfc']\n",
        "AlisonAgosti : ['magician', 'sketch', 'roommat']\n",
        "BenRiceM : ['lex', 'merlin', ';p', 'xp']\n",
        "BodyofBreen : ['breen', 'directv', '#sfgiants']\n",
        "Clarko : ['disneyland']\n",
        "DadBoner : ['gui', 'lookin', 'babe', 'karl', 'tooth']\n",
        "DavidWondrich : ['ala', 'brooklyn']\n",
        "EamonLeonard : ['cc', 'distil', 'dublin']\n",
        "FeinsandNYDN : ['nyi', 'nix', 'cashman', 'bronx', 'sarcasm', 'sabathia', 'romin', 'rivera', 'lineup', 'kuroda', 'girardi', 'ichiro', 'ballgam', 'jeter', 'claiborn', 'cano', 'overbai', 'nuno', 'a-rod', 'phelp', 'huff', 'hugh', 'joba', 'gardner', 'pettitt', 'granderson', 'daili']\n",
        "Heilemann : ['kubrick', ':|']\n",
        "JasonNark : ['wildwood', 'camden', 'sabbath']\n",
        "JimGaffigan : []\n",
        "KeithOlbermann : ['bub', 'mlb', 'sportscast', 'espn2', 'goober', 'sunset', 'felicia', 'espnew', 'avatar', 'internship', 'sonni', '#mets', '#asg', '#yankees', '#arod']\n",
        "MacSparky : ['pdf', 'snippet', 'screencast', 'grin']\n",
        "MikeWho : ['sacramento', 'rdio', '#e3', '#vscocam']\n",
        "PolarBearFarm : ['nz', 'wellington', 'brownle', 'flatmat', 'chch', 'quak', 'xero', '#nowplaying', '#eqnz']\n",
        "RubenBolling : ['cartoonist', 'comic', '#mets']\n",
        "SweatingCommas : ['marlei', 'whoah', 'skitch']\n",
        "TheProdigalFool : ['evo', 'rs6', 'tpg', 'prodig', 'engadget', 'nokia', 'luxuri']\n",
        "andybudd : ['ux', 'presum', 'brighton', 'apprentic']\n",
        "antichrista : ['uh-oh', 'neven', 'push-up', 'oliv']\n",
        "askvirginia : ['okcupid', 'aaaaah', 'haaaa', 'haaaaa', 'seattl', 'jackal', '#emmys']\n",
        "aza : ['jawbon']\n",
        "baseball_ref : ['http://www.baseball-reference.com/friv/birthdays.cgi', 'b-r', 'asg', 'bornthisd', 'split', 'index', 'tibh', 'draftstreet']\n",
        "billba : ['kickstart', 'dewei', 'strip', 'stretch', '#sdcc']\n",
        "caseyliss : ['o.o', 'marco', 'damnit', 'cobb', 'm-sport', 'liss', 'hahahahahahah', ':-p', '\u1f614', '\u1f61D', '\u1f633', '\u1f44D', '\u1f499']\n",
        "cbarrett : ['haskel', 'adium', 'earl']\n",
        "chartier : ['hrm', 'bioshock', 'airdrop', 'newsread']\n",
        "cjse : ['gothenburg', 'stockholm', 'rubi']\n",
        "comex : ['hn', ';p']\n",
        "ctp : ['beasti', '#strava']\n",
        "danielpunkass : ['e.g', 'mercuri', 'imho']\n",
        "dansdata : ['dx']\n",
        "davedelong : ['http://app.net', 'fruiti', '\u1f603', '\u1f609', '#wwdc', '#ds9', '#itunes']\n",
        "dermdaly : ['jaysu', '#upthedubs']\n",
        "dlpasco : ['sg', 'amp', 'eleanor', 'isaac', 'lisa']\n",
        "dozba : ['ssl', 'pgp', 'heroku', 'ebai', '#breakingbad']\n",
        "drbarnard : ['2.0', 'x100', 'cubbi']\n",
        "drdrang : []\n",
        "dwiskus : ['vesper']\n",
        "fchimero : []\n",
        "gregminton : []"
       ]
      },
      {
       "output_type": "stream",
       "stream": "stdout",
       "text": [
        "\n",
        "halfliterate : ['neato']\n"
       ]
      }
     ],
     "prompt_number": 48
    },
    {
     "cell_type": "code",
     "collapsed": false,
     "input": [
      "cross_val_and_print_accuracy (LogisticRegression(), W, y_u)"
     ],
     "language": "python",
     "metadata": {},
     "outputs": [],
     "prompt_number": "*"
    },
    {
     "cell_type": "markdown",
     "metadata": {},
     "source": [
      "##\u00a0Predicting Weeks from Tweets"
     ]
    },
    {
     "cell_type": "code",
     "collapsed": false,
     "input": [
      "wreg = LogisticRegression()"
     ],
     "language": "python",
     "metadata": {},
     "outputs": []
    },
    {
     "cell_type": "code",
     "collapsed": false,
     "input": [
      "wreg.fit (W.astype(np.float64), y_w)"
     ],
     "language": "python",
     "metadata": {},
     "outputs": []
    },
    {
     "cell_type": "code",
     "collapsed": false,
     "input": [
      "for w in range(len(tweetCountsPerWeek)):\n",
      "    words = [d[i] for i in np.where(reg.coef_[w] > 2.5)[0]]\n",
      "    print (\"Week %d : %s\" % (w, str(words)))"
     ],
     "language": "python",
     "metadata": {},
     "outputs": []
    },
    {
     "cell_type": "code",
     "collapsed": false,
     "input": [
      "cross_val_and_print_accuracy (LogisticRegression(), W, y_w)"
     ],
     "language": "python",
     "metadata": {},
     "outputs": []
    },
    {
     "cell_type": "markdown",
     "metadata": {},
     "source": [
      "## Predicting Months from Tweets"
     ]
    },
    {
     "cell_type": "code",
     "collapsed": false,
     "input": [
      "mreg = LogisticRegression()"
     ],
     "language": "python",
     "metadata": {},
     "outputs": []
    },
    {
     "cell_type": "code",
     "collapsed": false,
     "input": [
      "mreg.fit (W.astype(np.float64), y_m)"
     ],
     "language": "python",
     "metadata": {},
     "outputs": []
    },
    {
     "cell_type": "code",
     "collapsed": false,
     "input": [
      "for m in range(len(tweetCountsPerMonth)):\n",
      "    words = [d[i] for i in np.where(mreg.coef_[m] > 3)[0]]\n",
      "    print (\"::: %s ::: %s\" % (months[m], str(words)))"
     ],
     "language": "python",
     "metadata": {},
     "outputs": []
    },
    {
     "cell_type": "code",
     "collapsed": false,
     "input": [
      "cross_val_and_print_accuracy (LogisticRegression(), W, y_m)"
     ],
     "language": "python",
     "metadata": {},
     "outputs": []
    },
    {
     "cell_type": "markdown",
     "metadata": {},
     "source": [
      "##\u00a0Predicting Users from HashTags"
     ]
    },
    {
     "cell_type": "code",
     "collapsed": false,
     "input": [
      "W_ht = W[:,dictStarts['Hashtag']:(dictEnds['Hashtag'] - 1)]"
     ],
     "language": "python",
     "metadata": {},
     "outputs": []
    },
    {
     "cell_type": "code",
     "collapsed": false,
     "input": [
      "uregh = LogisticRegression()"
     ],
     "language": "python",
     "metadata": {},
     "outputs": []
    },
    {
     "cell_type": "code",
     "collapsed": false,
     "input": [
      "uregh.fit (W_ht.astype(np.float64), y_u)"
     ],
     "language": "python",
     "metadata": {},
     "outputs": []
    },
    {
     "cell_type": "code",
     "collapsed": false,
     "input": [
      "for u in range(len(users)):\n",
      "    words = [d[i + dictStarts['Hashtag']] for i in np.where(uregh.coef_[u] > 4)[0]]\n",
      "    name  = users[u]\n",
      "    print (\"%s : %s\" % (name, str(words)))"
     ],
     "language": "python",
     "metadata": {},
     "outputs": []
    },
    {
     "cell_type": "code",
     "collapsed": false,
     "input": [
      "cross_val_and_print_accuracy (LogisticRegression(), W_ht, y_u)"
     ],
     "language": "python",
     "metadata": {},
     "outputs": []
    },
    {
     "cell_type": "markdown",
     "metadata": {},
     "source": [
      "## Predicting Months from HashTags"
     ]
    },
    {
     "cell_type": "code",
     "collapsed": false,
     "input": [
      "mregh = LogisticRegression()"
     ],
     "language": "python",
     "metadata": {},
     "outputs": []
    },
    {
     "cell_type": "code",
     "collapsed": false,
     "input": [
      "mregh.fit (W_ht.astype(np.float64), y_m)"
     ],
     "language": "python",
     "metadata": {},
     "outputs": []
    },
    {
     "cell_type": "code",
     "collapsed": false,
     "input": [
      "for m in range(len(tweetCountsPerMonth)):\n",
      "    words = [d[i + dictStarts['Hashtag']] for i in np.where(mregh.coef_[m] > 3)[0]]\n",
      "    print (\"::: %s ::: %s\" % (months[m], str(words)))"
     ],
     "language": "python",
     "metadata": {},
     "outputs": []
    },
    {
     "cell_type": "code",
     "collapsed": false,
     "input": [
      "cross_val_and_print_accuracy (LogisticRegression(), W_ht, y_m)"
     ],
     "language": "python",
     "metadata": {},
     "outputs": []
    }
   ],
   "metadata": {}
  }
 ]
}